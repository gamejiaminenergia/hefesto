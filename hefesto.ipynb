{
 "cells": [
  {
   "cell_type": "code",
   "execution_count": 25,
   "id": "e521a8ee",
   "metadata": {},
   "outputs": [],
   "source": [
    "import os\n",
    "import pandas as pd\n",
    "import numpy as np\n",
    "import datetime\n",
    "import dataset\n",
    "from dotenv import load_dotenv\n",
    "from pathlib import Path\n",
    "import json"
   ]
  },
  {
   "cell_type": "code",
   "execution_count": 26,
   "id": "2ec6a51c",
   "metadata": {},
   "outputs": [],
   "source": [
    "def create_url() -> str:\n",
    "    \"\"\"\n",
    "    Construye la URL de conexión a la base de datos PostgreSQL\n",
    "    utilizando variables de entorno.\n",
    "    \"\"\"\n",
    "    load_dotenv()\n",
    "\n",
    "    user = os.getenv('POSTGRES_USER', 'postgres')\n",
    "    password = os.getenv('POSTGRES_PASSWORD', 'postgres')\n",
    "    host = os.getenv('POSTGRES_HOST', 'localhost')\n",
    "    port = os.getenv('POSTGRES_PORT', 5432)\n",
    "    db = os.getenv('POSTGRES_DB', 'postgres')\n",
    "\n",
    "    return f'postgresql://{user}:{password}@{host}:{port}/{db}'"
   ]
  },
  {
   "cell_type": "code",
   "execution_count": 27,
   "id": "05675f71",
   "metadata": {},
   "outputs": [],
   "source": [
    "def load_template(template_path: str) -> dict:\n",
    "    \"\"\"\n",
    "    Load the template from a JSON file.\n",
    "    \n",
    "    Args:\n",
    "        template_path (str): Path to the template JSON file\n",
    "        \n",
    "    Returns:\n",
    "        dict: The loaded template\n",
    "    \"\"\"\n",
    "    try:\n",
    "        with open(template_path, 'r', encoding='utf-8') as f:\n",
    "            return json.load(f)\n",
    "    except FileNotFoundError:\n",
    "        print(f\"Error: Template file not found at {template_path}\")\n",
    "        raise\n",
    "    except json.JSONDecodeError:\n",
    "        print(f\"Error: Invalid JSON in template file {template_path}\")\n",
    "        raise\n"
   ]
  },
  {
   "cell_type": "code",
   "execution_count": 28,
   "id": "44023b49",
   "metadata": {},
   "outputs": [],
   "source": [
    "def calculate_dataframe(company_code: str, company_name: str, template_data: list) -> pd.DataFrame:\n",
    "    \"\"\"\n",
    "    Fill the template with company data.\n",
    "    \n",
    "    Args:\n",
    "        company_name (str): The company name to insert\n",
    "        template_data (list): The template list containing systems and prompts\n",
    "        \n",
    "    Returns:\n",
    "        pd.DataFrame: Filled template with company name\n",
    "    \"\"\"\n",
    "    # Convert the template to a string to replace the company name\n",
    "    template_str = json.dumps(template_data)\n",
    "    filled_template_str = template_str.replace(\"'{company_name}'\", f\"'{company_name}'\")\n",
    "\n",
    "    df = pd.json_normalize(json.loads(filled_template_str), record_path=[\"assigned_prompts\"], meta=[\"system_id\", \"system_name\", \"system_description\", \"system_template\"])\n",
    "    df = df.assign(company_code=company_code, company_name=company_name, created_at=datetime.datetime.now(), updated_at=datetime.datetime.now(), status=0, processed=False)\n",
    "    \n",
    "    return df\n",
    "\n"
   ]
  },
  {
   "cell_type": "code",
   "execution_count": 29,
   "id": "ea8a93da",
   "metadata": {},
   "outputs": [],
   "source": [
    "def create_records(): \n",
    "    template_path = \"data/market_analysis_template.json\"\n",
    "    template_data = load_template(template_path)\n",
    "\n",
    "    with open('data/companies.json') as f:\n",
    "        data = json.load(f)\n",
    "\n",
    "    df=pd.concat([calculate_dataframe(company_code=d['company_code'], company_name=d['company_name'], template_data=template_data) for d in data], ignore_index=True)\n",
    "\n",
    "    db = dataset.connect(url=create_url())\n",
    "    table = db['records']\n",
    "    table.drop()\n",
    "    table.insert_many(df.to_dict('records'))\n"
   ]
  },
  {
   "cell_type": "code",
   "execution_count": 31,
   "id": "8b48a65b",
   "metadata": {},
   "outputs": [],
   "source": [
    "def calculate_market_analysis(system_template, prompt):\n",
    "    return \"hello world\"\n"
   ]
  },
  {
   "cell_type": "code",
   "execution_count": null,
   "id": "db965b0c",
   "metadata": {},
   "outputs": [],
   "source": [
    "db = dataset.connect(url=create_url())\n",
    "table = db['records']\n",
    "\n",
    "# interar sobre los registros procesados=False\n",
    "for record in table.find_one(processed=False):\n",
    "    record['response'] = calculate_market_analysis(system_template=record['system_template'], prompt=record['prompt'])\n",
    "    record['processed'] = True\n",
    "    \n",
    "    table.update(record, ['id'])   \n"
   ]
  }
 ],
 "metadata": {
  "kernelspec": {
   "display_name": ".venv",
   "language": "python",
   "name": "python3"
  },
  "language_info": {
   "codemirror_mode": {
    "name": "ipython",
    "version": 3
   },
   "file_extension": ".py",
   "mimetype": "text/x-python",
   "name": "python",
   "nbconvert_exporter": "python",
   "pygments_lexer": "ipython3",
   "version": "3.11.12"
  }
 },
 "nbformat": 4,
 "nbformat_minor": 5
}
